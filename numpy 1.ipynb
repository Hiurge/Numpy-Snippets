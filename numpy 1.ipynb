{
 "cells": [
  {
   "cell_type": "markdown",
   "metadata": {},
   "source": [
    "# NUMPY BASICS"
   ]
  },
  {
   "cell_type": "markdown",
   "metadata": {},
   "source": [
    "### Kreowanie array"
   ]
  },
  {
   "cell_type": "code",
   "execution_count": 50,
   "metadata": {
    "collapsed": true
   },
   "outputs": [],
   "source": [
    "import numpy as np\n",
    "\n",
    "a = np.array([1,2,3])\n",
    "b = np.array([(1.5,2,3), (4,5,6)], dtype = float)\n",
    "c = np.array([[(1.5,2,3), (4,5,6)], [(3,2,1), (4,5,6)]])"
   ]
  },
  {
   "cell_type": "markdown",
   "metadata": {},
   "source": [
    "### Initial Placeholders"
   ]
  },
  {
   "cell_type": "code",
   "execution_count": null,
   "metadata": {
    "collapsed": true
   },
   "outputs": [],
   "source": [
    "np.zeros((3,4))                 #Create an array of zeros\n",
    "np.ones((2,3,4),dtype=np.int16) # Create an array of ones\n",
    "\n",
    "\n",
    "np.arange(10,25,5) # Create an array of evenly spaced values (step value)\n",
    "np.linspace(0,2,9) # Create an array of evenly spaced values (number of samples)\n",
    "np.full((2,2),7)   # Create a constant array\n",
    "np.eye(2)          # Create a 2X2 identity matrix\n",
    "np.empty((3,2))    #Create an empty array\n",
    "np.identity()"
   ]
  },
  {
   "cell_type": "markdown",
   "metadata": {},
   "source": [
    "### I/O"
   ]
  },
  {
   "cell_type": "code",
   "execution_count": null,
   "metadata": {
    "collapsed": true
   },
   "outputs": [],
   "source": [
    "np.save('my_array', a)\n",
    "np.savez('array.npz', a, b)\n",
    "np.load('my_array.npy')\n",
    "\n",
    "np.loadtxt(\"myfile.txt\")                    # TEKST\n",
    "np.genfromtxt(\"my_file.csv\", delimiter=',') # TEKST\n",
    "np.savetxt(\"myarray.txt\", a, delimiter=\" \") # TEKST"
   ]
  },
  {
   "cell_type": "markdown",
   "metadata": {},
   "source": [
    "### Inspecting Your Array"
   ]
  },
  {
   "cell_type": "code",
   "execution_count": null,
   "metadata": {
    "collapsed": true
   },
   "outputs": [],
   "source": [
    "a.shape              # Array dimensions\n",
    "len(a)              # Length of array\n",
    "b.ndim              # Number of array dimensions\n",
    "e.size              # Number of array elements\n",
    "b.dtype             # Data type of array elements\n",
    "b.dtype.name        # Name of data type\n",
    "b.astype(int)       # Convert an array to a different typ   "
   ]
  },
  {
   "cell_type": "markdown",
   "metadata": {},
   "source": [
    "### Copying Arrays"
   ]
  },
  {
   "cell_type": "code",
   "execution_count": null,
   "metadata": {
    "collapsed": true
   },
   "outputs": [],
   "source": [
    "h = a.view()   # Create a view of the array with the same data\n",
    "np.copy(a)     # Create a copy of the array\n",
    "h = a.copy())  # Create a deep copy of the array"
   ]
  },
  {
   "cell_type": "markdown",
   "metadata": {},
   "source": [
    "### Sorting Arrays"
   ]
  },
  {
   "cell_type": "code",
   "execution_count": null,
   "metadata": {
    "collapsed": true
   },
   "outputs": [],
   "source": [
    "a.sort()       # Sort an array\n",
    "c.sort(axis=0) # Sort the elements of an array's axis"
   ]
  },
  {
   "cell_type": "markdown",
   "metadata": {},
   "source": [
    "### Arithmetic Operations"
   ]
  },
  {
   "cell_type": "code",
   "execution_count": null,
   "metadata": {
    "collapsed": true
   },
   "outputs": [],
   "source": [
    "np.subtract(a,b) # Odejmowanie\n",
    "np.add(b,a)      # Dodawanie\n",
    "np.divide(a,b)   # Dzielenie\n",
    "np.sqrt(b)       # Kwadrat ?????????\n",
    "np.sin(a)        # Sinus\n",
    "np.cos(b)        # Cosinus"
   ]
  },
  {
   "cell_type": "markdown",
   "metadata": {},
   "source": [
    "### Subsetting, Slicing, Indexing"
   ]
  },
  {
   "cell_type": "markdown",
   "metadata": {},
   "source": [
    "##### Subsetting"
   ]
  },
  {
   "cell_type": "code",
   "execution_count": null,
   "metadata": {
    "collapsed": true
   },
   "outputs": [],
   "source": [
    "a[2]          # Select the element at the 2nd index\n",
    "b[1,2]        # Select the element at row 0 column 2 (equivalent to b[1][2] )"
   ]
  },
  {
   "cell_type": "markdown",
   "metadata": {},
   "source": [
    "##### Slicing"
   ]
  },
  {
   "cell_type": "code",
   "execution_count": null,
   "metadata": {
    "collapsed": true
   },
   "outputs": [],
   "source": [
    "a[0:2]        # Select items at index 0 and 1\n",
    "b[0:2,1]      # Select items at rows 0 and 1 in column 1\n",
    "b[:1]         # Select all items at row 0 (equivalent to b[0:1, :] )\n",
    "c[1,...]      # Same as [1,:,:]\n",
    "a[ : :-1]     # Reversed array a"
   ]
  },
  {
   "cell_type": "markdown",
   "metadata": {},
   "source": [
    "##### Indexing (boolean/fancy)"
   ]
  },
  {
   "cell_type": "code",
   "execution_count": null,
   "metadata": {
    "collapsed": true
   },
   "outputs": [],
   "source": [
    "# Boolean Indexing\n",
    "a[a<2]        # Select elements from a less than 2\n",
    "\n",
    "# Fancy Indexing\n",
    "b[[1, 0, 1, 0],[0, 1, 2, 0]] # Select elements (1,0) , (0,1) , (1,2) and (0,0)\n",
    "b[[1, 0, 1, 0]][:,[0,1,2,0]] # Select a subset of the matrix’s rows and columns"
   ]
  },
  {
   "cell_type": "markdown",
   "metadata": {},
   "source": [
    "### Array Manipulation"
   ]
  },
  {
   "cell_type": "markdown",
   "metadata": {},
   "source": [
    "###### Transposing Array"
   ]
  },
  {
   "cell_type": "code",
   "execution_count": null,
   "metadata": {
    "collapsed": true
   },
   "outputs": [],
   "source": [
    "i = np.transpose(b)  # Permute array dimensions\n",
    "i.T                  # Permute array dimensions"
   ]
  },
  {
   "cell_type": "markdown",
   "metadata": {},
   "source": [
    "###### Changing Array Shape"
   ]
  },
  {
   "cell_type": "code",
   "execution_count": null,
   "metadata": {
    "collapsed": true
   },
   "outputs": [],
   "source": [
    "b.ravel()           # Flatten the array\n",
    "g.reshape(3,-2) # Reshape, but don’t change data"
   ]
  },
  {
   "cell_type": "markdown",
   "metadata": {},
   "source": [
    "###### Adding/Removing Elements"
   ]
  },
  {
   "cell_type": "code",
   "execution_count": null,
   "metadata": {
    "collapsed": true
   },
   "outputs": [],
   "source": [
    "h.resize((2,6))     # Return a new array with shape (2,6)\n",
    "np.append(h,g)      # Append items to an array\n",
    "np.insert(a, 1, 5)  # Insert items in an array\n",
    "np.delete(a,[1])    # Delete items from an array"
   ]
  },
  {
   "cell_type": "markdown",
   "metadata": {},
   "source": [
    "###### Combining Arrays"
   ]
  },
  {
   "cell_type": "code",
   "execution_count": null,
   "metadata": {
    "collapsed": true
   },
   "outputs": [],
   "source": [
    "np.concatenate((a,d),axis=0) # Concatenate arrays\n",
    "np.vstack((a,b))             # Stack arrays vertically (row-wise)\n",
    "np.r_[e,f]                   # Stack arrays vertically (row-wise)\n",
    "np.hstack((e,f))             # Stack arrays horizontally (column-wise)\n",
    "np.column_stack((a,d))       # Create stacked column-wise arrays\n",
    "np.c_[a,d]                   # Create stacked column-wise arrays"
   ]
  },
  {
   "cell_type": "markdown",
   "metadata": {},
   "source": [
    "###### Splitting Arrays"
   ]
  },
  {
   "cell_type": "code",
   "execution_count": null,
   "metadata": {
    "collapsed": true
   },
   "outputs": [],
   "source": [
    "np.hsplit(a,3)   # Split the array horizontally at the 3rd index\n",
    "np.vsplit(c,2)   # Split the array vertically at the 2nd index"
   ]
  },
  {
   "cell_type": "code",
   "execution_count": 5,
   "metadata": {
    "collapsed": true
   },
   "outputs": [],
   "source": [
    "import numpy as np"
   ]
  },
  {
   "cell_type": "markdown",
   "metadata": {},
   "source": [
    "# Glossary\n",
    "\n",
    "Podstawowe numpaje w kursie Andrew NG\n",
    "\n",
    "######  np.exp\n",
    "######  np.array\n",
    "######  np.shape\n",
    "######  np.reshape\n",
    "######  np.linalg.norm(x, ord=int,axis=int,keepdims=bool)\n",
    "######  np.sum(value, axis=int, keepdims=bool)\n",
    "######  np.zeros(x,y)\n",
    "######  np.dot(x,y)\n",
    "######  np.outer(x,y)\n",
    "######  np.multiply(x,y)\n",
    "######  np.random.rand(x,y)\n",
    "######  np.absolute()\n",
    "######  np.squeeze\n",
    "######  np.log()\n",
    "######  np.mean()\n",
    "######  np.tanh()\n",
    "######  np.round()\n",
    "######  np.random.seed()\n",
    "######  np.random.randn \n",
    "######  import time\n",
    "######  time.process_time()"
   ]
  },
  {
   "cell_type": "markdown",
   "metadata": {},
   "source": [
    "###  1.1-2 NP EXP\n",
    "### - np.array\n",
    "### - np.exp "
   ]
  },
  {
   "cell_type": "code",
   "execution_count": 17,
   "metadata": {},
   "outputs": [
    {
     "name": "stdout",
     "output_type": "stream",
     "text": [
      "EXAMPLE OF np.exp\n",
      "(basicly x * 2.718 for all values in x)\n",
      "\n",
      "[  2.71828183   7.3890561   20.08553692]\n",
      "\n",
      "example of vector operation on x + 3\n",
      "[4 5 6]\n"
     ]
    }
   ],
   "source": [
    "\n",
    "import numpy as np\n",
    "\n",
    "# example of np.exp\n",
    "x = np.array([1, 2, 3])\n",
    "\n",
    "print(\"EXAMPLE OF np.exp\")\n",
    "print(\"(basicly x * 2.718 for all values in x)\")\n",
    "print(\"\")\n",
    "print(np.exp(x)) # result is (exp(1), exp(2), exp(3))\n",
    "print(\"\")\n",
    "\n",
    "\n",
    "\n",
    "#example of vector operation\n",
    "x = np.array([1, 2, 3])\n",
    "\n",
    "print(\"example of vector operation on x + 3\")\n",
    "print(x + 3)"
   ]
  },
  {
   "cell_type": "code",
   "execution_count": 69,
   "metadata": {},
   "outputs": [
    {
     "data": {
      "text/plain": [
       "array([ 0.73105858,  0.88079708,  0.95257413])"
      ]
     },
     "execution_count": 69,
     "metadata": {},
     "output_type": "execute_result"
    }
   ],
   "source": [
    "import numpy as np\n",
    "\n",
    "def sigmoid(x):\n",
    "    s = 1 / (1 + np.exp(-x))\n",
    "    \n",
    "    return s\n",
    "\n",
    "x = np.array([1, 2, 3])\n",
    "sigmoid(x)"
   ]
  },
  {
   "cell_type": "code",
   "execution_count": 70,
   "metadata": {},
   "outputs": [
    {
     "name": "stdout",
     "output_type": "stream",
     "text": [
      "sigmoid_derivative(x) = [ 0.19661193  0.10499359  0.04517666]\n"
     ]
    }
   ],
   "source": [
    "def sigmoid_derivative(x):\n",
    "    \"\"\"\n",
    "    Compute the gradient (also called the slope or derivative) of the sigmoid function with respect to its input x.\n",
    "    You can store the output of the sigmoid function into variables and then use it to calculate the gradient.\n",
    "    \n",
    "    Arguments:\n",
    "    x -- A scalar or numpy array\n",
    "\n",
    "    Return:\n",
    "    ds -- Your computed gradient.\n",
    "    \"\"\"\n",
    "    s = 1 / (1 + np.exp(-x))\n",
    "    ds = s*(1-s)\n",
    "    return ds\n",
    "\n",
    "x = np.array([1, 2, 3])\n",
    "print (\"sigmoid_derivative(x) = \" + str(sigmoid_derivative(x)))\n"
   ]
  },
  {
   "cell_type": "markdown",
   "metadata": {},
   "source": [
    "### 1.3 Reshaping arrays\n",
    "### - np.shape\n",
    "### - np.reshape"
   ]
  },
  {
   "cell_type": "code",
   "execution_count": 71,
   "metadata": {},
   "outputs": [
    {
     "name": "stdout",
     "output_type": "stream",
     "text": [
      "[[[ 0.67826139  0.29380381]\n",
      "  [ 0.90714982  0.52835647]\n",
      "  [ 0.4215251   0.45017551]]\n",
      "\n",
      " [[ 0.92814219  0.96677647]\n",
      "  [ 0.85304703  0.52351845]\n",
      "  [ 0.19981397  0.27417313]]\n",
      "\n",
      " [[ 0.60659855  0.00533165]\n",
      "  [ 0.10820313  0.49978937]\n",
      "  [ 0.34144279  0.94630077]]]\n",
      "[[ 0.67826139  0.29380381]\n",
      " [ 0.90714982  0.52835647]\n",
      " [ 0.4215251   0.45017551]\n",
      " [ 0.92814219  0.96677647]\n",
      " [ 0.85304703  0.52351845]\n",
      " [ 0.19981397  0.27417313]\n",
      " [ 0.60659855  0.00533165]\n",
      " [ 0.10820313  0.49978937]\n",
      " [ 0.34144279  0.94630077]]\n",
      "image2vector(image) = [[ 0.67826139  0.29380381]\n",
      " [ 0.90714982  0.52835647]\n",
      " [ 0.4215251   0.45017551]\n",
      " [ 0.92814219  0.96677647]\n",
      " [ 0.85304703  0.52351845]\n",
      " [ 0.19981397  0.27417313]\n",
      " [ 0.60659855  0.00533165]\n",
      " [ 0.10820313  0.49978937]\n",
      " [ 0.34144279  0.94630077]]\n"
     ]
    }
   ],
   "source": [
    "# GRADED FUNCTION: image2vector\n",
    "def image2vector(image):\n",
    "    \"\"\"\n",
    "    Argument:\n",
    "    image -- a numpy array of shape (length, height, depth)\n",
    "    Returns:\n",
    "    v -- a vector of shape (length*height*depth, 1)\n",
    "    \"\"\"\n",
    "    print(image)\n",
    "    v = image.reshape((image.shape[0] * image.shape[1], image.shape[2]))\n",
    "    print(v)\n",
    "    return v\n",
    "\n",
    "\n",
    "# This is a 3 by 3 by 2 array, typically images will be (num_px_x, num_px_y,3) where 3 represents the RGB values\n",
    "image = np.array([[[ 0.67826139,  0.29380381],\n",
    "        [ 0.90714982,  0.52835647],\n",
    "        [ 0.4215251 ,  0.45017551]],\n",
    "\n",
    "       [[ 0.92814219,  0.96677647],\n",
    "        [ 0.85304703,  0.52351845],\n",
    "        [ 0.19981397,  0.27417313]],\n",
    "\n",
    "       [[ 0.60659855,  0.00533165],\n",
    "        [ 0.10820313,  0.49978937],\n",
    "        [ 0.34144279,  0.94630077]]])\n",
    "\n",
    "print (\"image2vector(image) = \" + str(image2vector(image)))\n"
   ]
  },
  {
   "cell_type": "markdown",
   "metadata": {},
   "source": [
    "### 1.4 - Normalizing rows\n",
    "### - np.linalg.norm(x, ord=int,axis=int,keepdims=bool)"
   ]
  },
  {
   "cell_type": "code",
   "execution_count": 129,
   "metadata": {},
   "outputs": [
    {
     "name": "stdout",
     "output_type": "stream",
     "text": [
      "not normalized Rows\n",
      "[[0 2 0 0]\n",
      " [1 4 2 2]]\n",
      " \n",
      "normalized Rows\n",
      "\n",
      "X NORM\n",
      "[[ 2.]\n",
      " [ 5.]]\n",
      "\n",
      "X/X_NORM\n",
      "[[ 0.   1.   0.   0. ]\n",
      " [ 0.2  0.8  0.4  0.4]]\n"
     ]
    }
   ],
   "source": [
    "# GRADED FUNCTION: normalizeRows\n",
    "\n",
    "def normalizeRows(x):\n",
    "    \"\"\"\n",
    "    Function normalizes each row of the matrix x (to have unit length).\n",
    "    Argument:   x -- A numpy matrix of shape (n, m)\n",
    "    Returns:    x -- The normalized (by row) numpy matrix. You are allowed to modify x.\n",
    "    \"\"\"\n",
    "    \n",
    "    x_norm = np.linalg.norm(x, ord = 2, axis = 1, keepdims = True)\n",
    "    x = x / x_norm\n",
    "    print(\"\")\n",
    "    print(\"X NORM\")\n",
    "    print(x_norm)\n",
    "    print(\"\")\n",
    "    print(\"X/X_NORM\")\n",
    "    return x\n",
    "\n",
    "x = np.array([\n",
    "    [0, 2, 0, 0],\n",
    "    [1, 4, 2, 2]])\n",
    "\n",
    "# normalizeRows(x) to use #\n",
    "\n",
    "\n",
    "\n",
    "\n",
    "\n",
    "print(\"not normalized Rows\")\n",
    "print(str(x))\n",
    "print(\" \")\n",
    "print(\"normalized Rows\")\n",
    "print(str(normalizeRows(x)))"
   ]
  },
  {
   "cell_type": "markdown",
   "metadata": {},
   "source": [
    "### 1.5 - Broadcasting and the softmax function\n",
    "### - np.sum(value, axis=int, keepdims=bool)"
   ]
  },
  {
   "cell_type": "code",
   "execution_count": 146,
   "metadata": {},
   "outputs": [
    {
     "name": "stdout",
     "output_type": "stream",
     "text": [
      " \n",
      "X_EXP\n",
      "[[  2.71828183   2.71828183   2.71828183]\n",
      " [  7.3890561   20.08553692   7.3890561 ]]\n",
      " \n",
      "X_SUM\n",
      "[[  8.15484549]\n",
      " [ 34.86364912]]\n",
      " \n",
      "SOFTMAX\n",
      "[[ 0.33333333  0.33333333  0.33333333]\n",
      " [ 0.21194156  0.57611688  0.21194156]]\n"
     ]
    }
   ],
   "source": [
    "# GRADED FUNCTION: softmax\n",
    "\n",
    "def softmax(x):\n",
    "    \"\"\"Calculates the softmax for each row of the input x.\n",
    "    Your code should work for a row vector and also for matrices of shape (n, m).\n",
    "    Argument:    x -- A numpy matrix of shape (n,m)\n",
    "    Returns:    s -- A numpy matrix equal to the softmax of x, of shape (n,m)\n",
    "    \"\"\"\n",
    "    \n",
    "    x_exp = np.exp(x)\n",
    "    x_sum = np.sum(x_exp, axis = 1, keepdims = True)\n",
    "    s = x_exp / x_sum\n",
    "    print(\" \")\n",
    "    print(\"X_EXP\")\n",
    "    print(x_exp)\n",
    "    print(\" \")\n",
    "    print(\"X_SUM\")\n",
    "    print(x_sum)\n",
    "    print(\" \")\n",
    "    print(\"SOFTMAX\")\n",
    "    return s\n",
    "\n",
    "x = np.array([\n",
    "    [1, 1, 1],\n",
    "    [2, 3, 2]])\n",
    "\n",
    "\n",
    "\n",
    "\n",
    "\n",
    "print(str(softmax(x)))"
   ]
  },
  {
   "cell_type": "markdown",
   "metadata": {},
   "source": [
    "## 2) Vectorization\n",
    "### - import time\n",
    "### - time.process_time()\n",
    "### - np.zeros(x,y)\n",
    "### - np.dot(x,y)\n",
    "### - np.outer(x,y)\n",
    "### - np.multiply(x,y)\n",
    "### - np.random.rand(x,y)"
   ]
  },
  {
   "cell_type": "code",
   "execution_count": 248,
   "metadata": {},
   "outputs": [
    {
     "name": "stdout",
     "output_type": "stream",
     "text": [
      "dot = 278\n",
      " ----- Computation time = 0.14642500000050518ms\n",
      "outer = [[ 81.  18.  18.  81.   0.  81.  18.  45.   0.   0.  81.  18.  45.   0.\n",
      "    0.]\n",
      " [ 18.   4.   4.  18.   0.  18.   4.  10.   0.   0.  18.   4.  10.   0.\n",
      "    0.]\n",
      " [ 45.  10.  10.  45.   0.  45.  10.  25.   0.   0.  45.  10.  25.   0.\n",
      "    0.]\n",
      " [  0.   0.   0.   0.   0.   0.   0.   0.   0.   0.   0.   0.   0.   0.\n",
      "    0.]\n",
      " [  0.   0.   0.   0.   0.   0.   0.   0.   0.   0.   0.   0.   0.   0.\n",
      "    0.]\n",
      " [ 63.  14.  14.  63.   0.  63.  14.  35.   0.   0.  63.  14.  35.   0.\n",
      "    0.]\n",
      " [ 45.  10.  10.  45.   0.  45.  10.  25.   0.   0.  45.  10.  25.   0.\n",
      "    0.]\n",
      " [  0.   0.   0.   0.   0.   0.   0.   0.   0.   0.   0.   0.   0.   0.\n",
      "    0.]\n",
      " [  0.   0.   0.   0.   0.   0.   0.   0.   0.   0.   0.   0.   0.   0.\n",
      "    0.]\n",
      " [  0.   0.   0.   0.   0.   0.   0.   0.   0.   0.   0.   0.   0.   0.\n",
      "    0.]\n",
      " [ 81.  18.  18.  81.   0.  81.  18.  45.   0.   0.  81.  18.  45.   0.\n",
      "    0.]\n",
      " [ 18.   4.   4.  18.   0.  18.   4.  10.   0.   0.  18.   4.  10.   0.\n",
      "    0.]\n",
      " [ 45.  10.  10.  45.   0.  45.  10.  25.   0.   0.  45.  10.  25.   0.\n",
      "    0.]\n",
      " [  0.   0.   0.   0.   0.   0.   0.   0.   0.   0.   0.   0.   0.   0.\n",
      "    0.]\n",
      " [  0.   0.   0.   0.   0.   0.   0.   0.   0.   0.   0.   0.   0.   0.\n",
      "    0.]]\n",
      " ----- Computation time = 0.4005849999977329ms\n",
      "elementwise multiplication = [ 81.   4.  10.   0.   0.  63.  10.   0.   0.   0.  81.   4.  25.   0.   0.]\n",
      " ----- Computation time = 0.18975499999740464ms\n",
      "gdot = [ 16.30886224  20.67899031  18.50735206]\n",
      " ----- Computation time = 0.2728079999982924ms\n"
     ]
    }
   ],
   "source": [
    "import time\n",
    "\n",
    "x1 = [9, 2, 5, 0, 0, 7, 5, 0, 0, 0, 9, 2, 5, 0, 0]\n",
    "x2 = [9, 2, 2, 9, 0, 9, 2, 5, 0, 0, 9, 2, 5, 0, 0]\n",
    "\n",
    "### CLASSIC DOT PRODUCT OF VECTORS IMPLEMENTATION ###\n",
    "tic = time.process_time()\n",
    "dot = 0\n",
    "for i in range(len(x1)):\n",
    "    dot+= x1[i]*x2[i]\n",
    "toc = time.process_time()\n",
    "print (\"dot = \" + str(dot) + \"\\n ----- Computation time = \" + str(1000*(toc - tic)) + \"ms\")\n",
    "\n",
    "### CLASSIC OUTER PRODUCT IMPLEMENTATION ###\n",
    "tic = time.process_time()\n",
    "outer = np.zeros((len(x1),len(x2))) # we create a len(x1)*len(x2) matrix with only zeros\n",
    "for i in range(len(x1)):\n",
    "    for j in range(len(x2)):\n",
    "        outer[i,j] = x1[i]*x2[j]\n",
    "toc = time.process_time()\n",
    "print (\"outer = \" + str(outer) + \"\\n ----- Computation time = \" + str(1000*(toc - tic)) + \"ms\")\n",
    "\n",
    "### CLASSIC ELEMENTWISE IMPLEMENTATION ###\n",
    "tic = time.process_time()\n",
    "mul = np.zeros(len(x1))\n",
    "for i in range(len(x1)):\n",
    "    mul[i] = x1[i]*x2[i]\n",
    "toc = time.process_time()\n",
    "print (\"elementwise multiplication = \" + str(mul) + \"\\n ----- Computation time = \" + str(1000*(toc - tic)) + \"ms\")\n",
    "\n",
    "### CLASSIC GENERAL DOT PRODUCT IMPLEMENTATION ###\n",
    "W = np.random.rand(3,len(x1)) # Random 3*len(x1) numpy array\n",
    "tic = time.process_time()\n",
    "gdot = np.zeros(W.shape[0])\n",
    "for i in range(W.shape[0]):\n",
    "    for j in range(len(x1)):\n",
    "        gdot[i] += W[i,j]*x1[j]\n",
    "\n",
    "        toc = time.process_time()\n",
    "print (\"gdot = \" + str(gdot) + \"\\n ----- Computation time = \" + str(1000*(toc - tic)) + \"ms\")"
   ]
  },
  {
   "cell_type": "code",
   "execution_count": 257,
   "metadata": {},
   "outputs": [
    {
     "name": "stdout",
     "output_type": "stream",
     "text": [
      "NP.ZEROS\n",
      "[[ 0.  0.  0.]\n",
      " [ 0.  0.  0.]\n",
      " [ 0.  0.  0.]]\n"
     ]
    }
   ],
   "source": [
    "print(\"NP.ZEROS\")\n",
    "\n",
    "zy = [1,2,3]\n",
    "yy = [4,5,6]\n",
    "xyz = np.zeros((len(zy),len(yy))) # we create a len(x1)*len(x2) matrix with only zeros\n",
    "print(xyz)"
   ]
  },
  {
   "cell_type": "code",
   "execution_count": 253,
   "metadata": {},
   "outputs": [
    {
     "name": "stdout",
     "output_type": "stream",
     "text": [
      "dot = 278\n",
      " ----- Computation time = 0.1478390000002605ms\n",
      "outer = [[81 18 18 81  0 81 18 45  0  0 81 18 45  0  0]\n",
      " [18  4  4 18  0 18  4 10  0  0 18  4 10  0  0]\n",
      " [45 10 10 45  0 45 10 25  0  0 45 10 25  0  0]\n",
      " [ 0  0  0  0  0  0  0  0  0  0  0  0  0  0  0]\n",
      " [ 0  0  0  0  0  0  0  0  0  0  0  0  0  0  0]\n",
      " [63 14 14 63  0 63 14 35  0  0 63 14 35  0  0]\n",
      " [45 10 10 45  0 45 10 25  0  0 45 10 25  0  0]\n",
      " [ 0  0  0  0  0  0  0  0  0  0  0  0  0  0  0]\n",
      " [ 0  0  0  0  0  0  0  0  0  0  0  0  0  0  0]\n",
      " [ 0  0  0  0  0  0  0  0  0  0  0  0  0  0  0]\n",
      " [81 18 18 81  0 81 18 45  0  0 81 18 45  0  0]\n",
      " [18  4  4 18  0 18  4 10  0  0 18  4 10  0  0]\n",
      " [45 10 10 45  0 45 10 25  0  0 45 10 25  0  0]\n",
      " [ 0  0  0  0  0  0  0  0  0  0  0  0  0  0  0]\n",
      " [ 0  0  0  0  0  0  0  0  0  0  0  0  0  0  0]]\n",
      " ----- Computation time = 0.15795899999915264ms\n",
      "elementwise multiplication = [81  4 10  0  0 63 10  0  0  0 81  4 25  0  0]\n",
      " ----- Computation time = 0.20974799999962102ms\n",
      "gdot = [ 16.30886224  20.67899031  18.50735206]\n",
      " ----- Computation time = 0.14302400000332227ms\n"
     ]
    }
   ],
   "source": [
    "x1 = [9, 2, 5, 0, 0, 7, 5, 0, 0, 0, 9, 2, 5, 0, 0]\n",
    "x2 = [9, 2, 2, 9, 0, 9, 2, 5, 0, 0, 9, 2, 5, 0, 0]\n",
    "\n",
    "### VECTORIZED DOT PRODUCT OF VECTORS ###\n",
    "tic = time.process_time()\n",
    "dot = np.dot(x1,x2)\n",
    "toc = time.process_time()\n",
    "print (\"dot = \" + str(dot) + \"\\n ----- Computation time = \" + str(1000*(toc - tic)) + \"ms\")\n",
    "\n",
    "### VECTORIZED OUTER PRODUCT ###\n",
    "tic = time.process_time()\n",
    "outer = np.outer(x1,x2)\n",
    "toc = time.process_time()\n",
    "print (\"outer = \" + str(outer) + \"\\n ----- Computation time = \" + str(1000*(toc - tic)) + \"ms\")\n",
    "\n",
    "### VECTORIZED ELEMENTWISE MULTIPLICATION ###\n",
    "tic = time.process_time()\n",
    "mul = np.multiply(x1,x2) \n",
    "toc = time.process_time()\n",
    "print (\"elementwise multiplication = \" + str(mul) + \"\\n ----- Computation time = \" + str(1000*(toc - tic)) + \"ms\")\n",
    "\n",
    "### VECTORIZED GENERAL DOT PRODUCT ###\n",
    "tic = time.process_time()\n",
    "dot = np.dot(W,x1)\n",
    "toc = time.process_time()\n",
    "print (\"gdot = \" + str(dot) + \"\\n ----- Computation time = \" + str(1000*(toc - tic)) + \"ms\")\n"
   ]
  },
  {
   "cell_type": "markdown",
   "metadata": {},
   "source": [
    "### NP.DOT\n",
    "\n",
    "dodaje w pionowej osi pary przemnozonych przez siebie xy[1] i xr[1] i po kolei dalej"
   ]
  },
  {
   "cell_type": "code",
   "execution_count": 318,
   "metadata": {},
   "outputs": [
    {
     "name": "stdout",
     "output_type": "stream",
     "text": [
      "90\n"
     ]
    }
   ],
   "source": [
    "xr = [1,2,3]\n",
    "yr = [10,10,20]\n",
    "xyrdot = np.dot(xr,yr)\n",
    "print(xyrdot)"
   ]
  },
  {
   "cell_type": "markdown",
   "metadata": {},
   "source": [
    "### NP.MULTIPLY(x,y)\n",
    "\n",
    "mnoży w pionowej osi przez siebie pary ale nie sumuje ich"
   ]
  },
  {
   "cell_type": "code",
   "execution_count": 319,
   "metadata": {},
   "outputs": [
    {
     "name": "stdout",
     "output_type": "stream",
     "text": [
      "[10 20 60]\n"
     ]
    }
   ],
   "source": [
    "xr = [1,2,3]\n",
    "yr = [10,10,20]\n",
    "xyrmul = np.multiply(xr,yr)\n",
    "print(xyrmul)"
   ]
  },
  {
   "cell_type": "markdown",
   "metadata": {},
   "source": [
    "### NP.OUTER\n",
    "\n",
    "tworzy matrix niemal jak tabele o bokach xr pion i yr poziom"
   ]
  },
  {
   "cell_type": "code",
   "execution_count": 323,
   "metadata": {},
   "outputs": [
    {
     "name": "stdout",
     "output_type": "stream",
     "text": [
      "[[10 10 20]\n",
      " [20 20 40]\n",
      " [30 30 60]]\n"
     ]
    }
   ],
   "source": [
    "xr = [1,2,3] #PION\n",
    "yr = [10,10,20] #POZIOM\n",
    "xyrouter = np.outer(xr,yr)\n",
    "print(xyrouter)"
   ]
  },
  {
   "cell_type": "markdown",
   "metadata": {},
   "source": [
    "### 2.1 Implement the L1 and L2 loss functions\n",
    "### - np.absolute()"
   ]
  },
  {
   "cell_type": "code",
   "execution_count": 326,
   "metadata": {},
   "outputs": [
    {
     "name": "stdout",
     "output_type": "stream",
     "text": [
      "L1 = [ 1.1]\n"
     ]
    }
   ],
   "source": [
    "# GRADED FUNCTION: L1\n",
    "\n",
    "def L1(yhat, y):\n",
    "    \"\"\"\n",
    "    yhat -- vector of size m (predicted labels)\n",
    "    y -- vector of size m (true labels)\n",
    "    loss -- the value of the L1 loss function defined above\n",
    "    \"\"\"\n",
    "    loss = np.sum(np.absolute(yhat-y), axis=0, keepdims=True)\n",
    "    return loss\n",
    "\n",
    "yhat = np.array([.9, 0.2, 0.1, .4, .9])\n",
    "y = np.array([1, 0, 0, 1, 1])\n",
    "print(\"L1 = \" + str(L1(yhat,y)))"
   ]
  },
  {
   "cell_type": "code",
   "execution_count": 330,
   "metadata": {},
   "outputs": [
    {
     "name": "stdout",
     "output_type": "stream",
     "text": [
      "L2 = [ 0.43]\n"
     ]
    }
   ],
   "source": [
    "# GRADED FUNCTION: L2\n",
    "\n",
    "def L2(yhat, y):\n",
    "    loss = np.sum(np.absolute(yhat-y)**2, axis=0, keepdims=True)\n",
    "    return loss\n",
    "\n",
    "yhat = np.array([.9, 0.2, 0.1, .4, .9])\n",
    "y = np.array([1, 0, 0, 1, 1])\n",
    "print(\"L2 = \" + str(L2(yhat,y)))"
   ]
  },
  {
   "cell_type": "code",
   "execution_count": 341,
   "metadata": {},
   "outputs": [
    {
     "name": "stdout",
     "output_type": "stream",
     "text": [
      "0.999996596886\n",
      "0.9999894812850405\n"
     ]
    }
   ],
   "source": [
    "# np.ABSOLUTE / np.abs\n",
    "\n",
    "xnoabs = 323\n",
    "xabs = np.absolute(323.2323 / 323.2334)\n",
    "xheh = 323.23 / 323.2334\n",
    "print(xabs)\n",
    "print(xheh)"
   ]
  },
  {
   "cell_type": "code",
   "execution_count": 357,
   "metadata": {},
   "outputs": [
    {
     "name": "stdout",
     "output_type": "stream",
     "text": [
      "[[[ 0.34322454  0.83182304  0.78201277  0.44701588]\n",
      "  [ 0.85951498  0.59133266  0.65097986  0.74957027]\n",
      "  [ 0.56099697  0.15232241  0.15680674  0.73974774]]\n",
      "\n",
      " [[ 0.86333563  0.31746296  0.68956043  0.11711711]\n",
      "  [ 0.90667781  0.73509781  0.17372047  0.08527577]\n",
      "  [ 0.63374954  0.08984535  0.94349541  0.11455304]]]\n"
     ]
    }
   ],
   "source": [
    "# np.RANDOM.RAND\n",
    "\n",
    "xrand = np.random.rand(2,3,4)\n",
    "print(xrand)"
   ]
  },
  {
   "cell_type": "code",
   "execution_count": 376,
   "metadata": {},
   "outputs": [
    {
     "name": "stdout",
     "output_type": "stream",
     "text": [
      "[[ 0.05311245  0.63841058  0.2077077   0.58723022  0.38911338]\n",
      " [ 0.38722534  0.14077834  0.42191402  0.35692057  0.43432944]\n",
      " [ 0.54352303  0.11645814  0.00309079  0.79094861  0.71162362]\n",
      " [ 0.47863862  0.71807807  0.53252313  0.45249045  0.88266422]\n",
      " [ 0.51042684  0.29902699  0.86093758  0.55885854  0.45267454]]\n"
     ]
    }
   ],
   "source": [
    "yrand = np.random.rand(10-5,3+2)\n",
    "print(yrand)"
   ]
  },
  {
   "cell_type": "markdown",
   "metadata": {},
   "source": [
    "### np.squeeze()  i inne\n",
    "Remove single-dimensional entries from the shape of an array.\n",
    "The input array, but with all or a subset of the dimensions of length 1 removed. \n",
    "This is always a itself or a view into a.\n"
   ]
  },
  {
   "cell_type": "code",
   "execution_count": 378,
   "metadata": {},
   "outputs": [
    {
     "name": "stdout",
     "output_type": "stream",
     "text": [
      "[[[0]\n",
      "  [1]\n",
      "  [2]]]\n",
      "(1, 3, 1)\n",
      "(3,)\n",
      "(1, 3)\n"
     ]
    }
   ],
   "source": [
    "x = np.array([[[0], [1], [2]]])\n",
    "print(x)\n",
    "y = x.shape\n",
    "print(y)\n",
    "z = np.squeeze(x).shape\n",
    "print(z)\n",
    "f = np.squeeze(x, axis=(2,)).shape\n",
    "print(f)"
   ]
  },
  {
   "cell_type": "code",
   "execution_count": null,
   "metadata": {
    "collapsed": true
   },
   "outputs": [],
   "source": [
    "np.log() #Liczy logarytm"
   ]
  },
  {
   "cell_type": "code",
   "execution_count": null,
   "metadata": {
    "collapsed": true
   },
   "outputs": [],
   "source": [
    "np.mean() # Średnia https://docs.scipy.org/doc/numpy-1.13.0/reference/generated/numpy.mean.html"
   ]
  },
  {
   "cell_type": "code",
   "execution_count": null,
   "metadata": {
    "collapsed": true
   },
   "outputs": [],
   "source": [
    "np.tanh() # Wykres tanh"
   ]
  },
  {
   "cell_type": "code",
   "execution_count": null,
   "metadata": {
    "collapsed": true
   },
   "outputs": [],
   "source": [
    "np.round() # no pewnie zaokragla ;d"
   ]
  },
  {
   "cell_type": "code",
   "execution_count": null,
   "metadata": {
    "collapsed": true
   },
   "outputs": [],
   "source": [
    "np.random.seed() # ?"
   ]
  },
  {
   "cell_type": "code",
   "execution_count": null,
   "metadata": {
    "collapsed": true
   },
   "outputs": [],
   "source": [
    "np.random.randn # inny random"
   ]
  }
 ],
 "metadata": {
  "kernelspec": {
   "display_name": "Python 3",
   "language": "python",
   "name": "python3"
  },
  "language_info": {
   "codemirror_mode": {
    "name": "ipython",
    "version": 3
   },
   "file_extension": ".py",
   "mimetype": "text/x-python",
   "name": "python",
   "nbconvert_exporter": "python",
   "pygments_lexer": "ipython3",
   "version": "3.6.2"
  }
 },
 "nbformat": 4,
 "nbformat_minor": 2
}
